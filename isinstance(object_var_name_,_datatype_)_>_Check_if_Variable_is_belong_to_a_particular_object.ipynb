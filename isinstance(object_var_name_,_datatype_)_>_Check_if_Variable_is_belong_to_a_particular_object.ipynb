{
  "nbformat": 4,
  "nbformat_minor": 0,
  "metadata": {
    "colab": {
      "name": "isinstance(object/ var name , datatype ) --> Check if Variable is belong to a particular object.ipynb",
      "provenance": [],
      "authorship_tag": "ABX9TyM3c15JGq/FqCqRFwC6Q4ey",
      "include_colab_link": true
    },
    "kernelspec": {
      "name": "python3",
      "display_name": "Python 3"
    },
    "language_info": {
      "name": "python"
    }
  },
  "cells": [
    {
      "cell_type": "markdown",
      "metadata": {
        "id": "view-in-github",
        "colab_type": "text"
      },
      "source": [
        "<a href=\"https://colab.research.google.com/github/Avisikta-Majumdar/Python-Basic-To-Advance/blob/main/isinstance(object_var_name_%2C_datatype_)_%3E_Check_if_Variable_is_belong_to_a_particular_object.ipynb\" target=\"_parent\"><img src=\"https://colab.research.google.com/assets/colab-badge.svg\" alt=\"Open In Colab\"/></a>"
      ]
    },
    {
      "cell_type": "code",
      "execution_count": 3,
      "metadata": {
        "colab": {
          "base_uri": "https://localhost:8080/"
        },
        "id": "1YjnzGam4Eko",
        "outputId": "7097dca0-28b9-4c5d-da9c-e0dc490be695"
      },
      "outputs": [
        {
          "output_type": "stream",
          "name": "stdout",
          "text": [
            "a = 123 \n",
            "b= Hello\n",
            "Is a an instance of str? False\n",
            "Is b an instance of str? True\n"
          ]
        }
      ],
      "source": [
        "a = 123\n",
        "b = 'Hello'\n",
        "print(f'a = {a} \\nb= {b}')\n",
        "print('Is a an instance of str?', isinstance(a, str))\n",
        "print('Is b an instance of str?', isinstance(b, str))"
      ]
    },
    {
      "cell_type": "markdown",
      "source": [
        "## [Reference](https://www.askpython.com/python/examples/python-check-if-variable-is-a-string)"
      ],
      "metadata": {
        "id": "TFpb8_hI4WIN"
      }
    },
    {
      "cell_type": "code",
      "source": [
        ""
      ],
      "metadata": {
        "id": "46dp1xvR4bXg"
      },
      "execution_count": null,
      "outputs": []
    }
  ]
}